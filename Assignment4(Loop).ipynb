{
 "cells": [
  {
   "cell_type": "code",
   "execution_count": 1,
   "id": "94fd2763-493f-4cb5-9478-e5658558d437",
   "metadata": {},
   "outputs": [
    {
     "name": "stdout",
     "output_type": "stream",
     "text": [
      "1\n",
      "2\n",
      "3\n",
      "4\n",
      "5\n",
      "6\n",
      "7\n",
      "8\n",
      "9\n",
      "10\n"
     ]
    }
   ],
   "source": [
    "# Python program to print numbers from 1 to 10 using a for loop\n",
    "\n",
    "for i in range(1, 11):\n",
    "    print(i)"
   ]
  },
  {
   "cell_type": "markdown",
   "id": "aaa39884-a726-429d-a7b4-34a545497f12",
   "metadata": {},
   "source": [
    "# 2. Write a Python program to print the numbers from 20 to 1 using a while loop.\n"
   ]
  },
  {
   "cell_type": "code",
   "execution_count": 4,
   "id": "d2871dbf-d55e-4f35-b59c-f84bd6d56cb7",
   "metadata": {},
   "outputs": [
    {
     "name": "stdout",
     "output_type": "stream",
     "text": [
      "20\n",
      "19\n",
      "18\n",
      "17\n",
      "16\n",
      "15\n",
      "14\n",
      "13\n",
      "12\n",
      "11\n",
      "10\n",
      "9\n",
      "8\n",
      "7\n",
      "6\n",
      "5\n",
      "4\n",
      "3\n",
      "2\n",
      "1\n"
     ]
    }
   ],
   "source": [
    "# Python program to print numbers from 20 to 1 using a while loop\n",
    "\n",
    "num = 20\n",
    "while num >= 1:\n",
    "    print(num)\n",
    "    num -= 1\n",
    "    "
   ]
  },
  {
   "cell_type": "markdown",
   "id": "71cc66e6-0806-4a7e-aef0-4250d967547f",
   "metadata": {},
   "source": [
    "# 3. Write a program to print even numbers from 1 to 10."
   ]
  },
  {
   "cell_type": "code",
   "execution_count": 7,
   "id": "2459bfed-15d1-4edf-83ce-814532818bb1",
   "metadata": {},
   "outputs": [
    {
     "name": "stdout",
     "output_type": "stream",
     "text": [
      "2\n",
      "4\n",
      "6\n",
      "8\n",
      "10\n"
     ]
    }
   ],
   "source": [
    "for i in range(1, 11):\n",
    "    if i % 2 == 0:\n",
    "        print(i)"
   ]
  },
  {
   "cell_type": "markdown",
   "id": "03955e74-490f-43ad-8a6e-9f15f0d5a463",
   "metadata": {},
   "source": [
    "# 4. Write a program that prompts the user to enter a number n and prints all the numbers from 1 to n. "
   ]
  },
  {
   "cell_type": "code",
   "execution_count": 11,
   "id": "72b16e54-e1dd-4b75-8ae6-dac034b28f9f",
   "metadata": {},
   "outputs": [
    {
     "name": "stdin",
     "output_type": "stream",
     "text": [
      "Enter a number:  9\n"
     ]
    },
    {
     "name": "stdout",
     "output_type": "stream",
     "text": [
      "1\n",
      "2\n",
      "3\n",
      "4\n",
      "5\n",
      "6\n",
      "7\n",
      "8\n",
      "9\n"
     ]
    }
   ],
   "source": [
    "n = int(input(\"Enter a number: \"))\n",
    "\n",
    "# Print numbers from 1 to n\n",
    "for i in range(1, n + 1):\n",
    "    print(i)"
   ]
  },
  {
   "cell_type": "markdown",
   "id": "53bec639-00fc-4e67-9b33-81500bee668c",
   "metadata": {},
   "source": [
    "# 5. Write a program that prompts the user to enter a number n, and then prints all the odd numbers between 1 and n. "
   ]
  },
  {
   "cell_type": "code",
   "execution_count": 18,
   "id": "77f69910-e556-4781-8344-2e79ab8d3f89",
   "metadata": {},
   "outputs": [
    {
     "name": "stdin",
     "output_type": "stream",
     "text": [
      "Enter a number:  9\n"
     ]
    },
    {
     "name": "stdout",
     "output_type": "stream",
     "text": [
      "1\n",
      "3\n",
      "5\n",
      "7\n",
      "9\n"
     ]
    }
   ],
   "source": [
    "n = int(input(\"Enter a number: \"))\n",
    "\n",
    "# Print odd numbers from 1 to n\n",
    "for i in range(1, n + 1):\n",
    "    if i % 2 != 0:\n",
    "        print(i)"
   ]
  },
  {
   "cell_type": "markdown",
   "id": "9a51b833-c8e5-4277-8a89-0a0a97ba151e",
   "metadata": {},
   "source": [
    "# 6. Write a program that prints 'Happy Birthday!' five times on screen"
   ]
  },
  {
   "cell_type": "code",
   "execution_count": 21,
   "id": "1422aecb-8462-470e-8f46-e827dbbf47f7",
   "metadata": {},
   "outputs": [
    {
     "name": "stdout",
     "output_type": "stream",
     "text": [
      "Happy Birthday!\n",
      "Happy Birthday!\n",
      "Happy Birthday!\n",
      "Happy Birthday!\n",
      "Happy Birthday!\n"
     ]
    }
   ],
   "source": [
    "for _ in range(5):\n",
    "    print(\"Happy Birthday!\")"
   ]
  },
  {
   "cell_type": "markdown",
   "id": "200dcfc9-b46e-42c2-8ab2-041062e2da4b",
   "metadata": {},
   "source": [
    "#  7. Write a program that takes a number n as input from the user and generates the first n terms of the series formed by squaring the natural numbers. "
   ]
  },
  {
   "cell_type": "code",
   "execution_count": 27,
   "id": "601039d2-1fb6-4dd6-8b1a-753be5b44cab",
   "metadata": {},
   "outputs": [
    {
     "name": "stdin",
     "output_type": "stream",
     "text": [
      "Enter a number:  5\n"
     ]
    },
    {
     "name": "stdout",
     "output_type": "stream",
     "text": [
      "1\n",
      "4\n",
      "9\n",
      "16\n",
      "25\n"
     ]
    }
   ],
   "source": [
    "n = int(input(\"Enter a number: \"))\n",
    "\n",
    "# Generate and print the first n terms of the series of squared natural numbers\n",
    "for i in range(1, n + 1):\n",
    "    print(i ** 2)"
   ]
  },
  {
   "cell_type": "markdown",
   "id": "300941ce-dd7e-4cc8-b2da-6613d648b3ce",
   "metadata": {},
   "source": [
    "#  8. Write a program that prompts the user to input a number and prints its multiplication table. "
   ]
  },
  {
   "cell_type": "code",
   "execution_count": 30,
   "id": "95420a4e-d685-45ac-8076-0eae0ce8bbfb",
   "metadata": {},
   "outputs": [
    {
     "name": "stdin",
     "output_type": "stream",
     "text": [
      "Enter a number:  9\n"
     ]
    },
    {
     "name": "stdout",
     "output_type": "stream",
     "text": [
      "9 x 1 = 9\n",
      "9 x 2 = 18\n",
      "9 x 3 = 27\n",
      "9 x 4 = 36\n",
      "9 x 5 = 45\n",
      "9 x 6 = 54\n",
      "9 x 7 = 63\n",
      "9 x 8 = 72\n",
      "9 x 9 = 81\n",
      "9 x 10 = 90\n"
     ]
    }
   ],
   "source": [
    "num = int(input(\"Enter a number: \"))\n",
    "\n",
    "# Print the multiplication table for the given number\n",
    "for i in range(1, 11):\n",
    "    print(f\"{num} x {i} = {num * i}\")"
   ]
  },
  {
   "cell_type": "markdown",
   "id": "695eabc8-85bf-4ee4-aee2-59a4764c1255",
   "metadata": {},
   "source": [
    "# 9. Write a Python program to print the first 8 terms of an arithmetic progression startingwith 3 and having a common difference of 4. "
   ]
  },
  {
   "cell_type": "code",
   "execution_count": 34,
   "id": "a9b404a1-34a7-4d6a-8a84-1b67f6aec7cf",
   "metadata": {},
   "outputs": [
    {
     "name": "stdout",
     "output_type": "stream",
     "text": [
      "3\n",
      "7\n",
      "11\n",
      "15\n",
      "19\n",
      "23\n",
      "27\n",
      "31\n"
     ]
    }
   ],
   "source": [
    "first_term = 3\n",
    "common_difference = 4\n",
    "\n",
    "# Print the first 8 terms of the arithmetic progression\n",
    "for i in range(8):\n",
    "    term = first_term + i * common_difference\n",
    "    print(term)"
   ]
  },
  {
   "cell_type": "markdown",
   "id": "8293529b-fab1-4c4f-af66-953e66256040",
   "metadata": {},
   "source": [
    "# 10.Write a Python program to print the first 6 terms of a geometric sequence starting with 2 and having a common ratio of 3. "
   ]
  },
  {
   "cell_type": "code",
   "execution_count": 39,
   "id": "7c375800-3e65-4bef-9044-1ead590d1fac",
   "metadata": {},
   "outputs": [
    {
     "name": "stdout",
     "output_type": "stream",
     "text": [
      "2\n",
      "6\n",
      "18\n",
      "54\n",
      "162\n",
      "486\n"
     ]
    }
   ],
   "source": [
    "a = 2  # First term\n",
    "r = 3  # Common ratio\n",
    "\n",
    "# Number of terms to print\n",
    "n = 6\n",
    "\n",
    "# Loop to print the first 6 terms\n",
    "for i in range(n):\n",
    "    term = a * (r ** i)\n",
    "    print(term)"
   ]
  },
  {
   "cell_type": "markdown",
   "id": "985b5825-b812-4796-8d79-a3b416c69b8a",
   "metadata": {},
   "source": [
    "# 11.. Write a program that asks the user for a positive integer value. The program shouldcalculate the sum of all the integers from 1 up to the number entered. For example, ifthe user enters 20, the loop will find the sum of 1, 2, 3, 4, ... 20. "
   ]
  },
  {
   "cell_type": "code",
   "execution_count": 42,
   "id": "8c7542bf-783f-48e3-a82e-50d777a20419",
   "metadata": {},
   "outputs": [
    {
     "name": "stdin",
     "output_type": "stream",
     "text": [
      "Enter a positive integer:  120\n"
     ]
    },
    {
     "name": "stdout",
     "output_type": "stream",
     "text": [
      "The sum of all integers from 1 to 120 is: 7260\n"
     ]
    }
   ],
   "source": [
    "number = int(input(\"Enter a positive integer: \"))\n",
    "if number <= 0:\n",
    "    print(\"Please enter a positive integer.\")\n",
    "else:\n",
    "    total_sum = 0\n",
    "    for i in range(1, number + 1):\n",
    "        total_sum += i\n",
    "    \n",
    "    print(f\"The sum of all integers from 1 to {number} is: {total_sum}\")"
   ]
  },
  {
   "cell_type": "markdown",
   "id": "73b1653c-5299-44ba-babd-65417fae3a7e",
   "metadata": {},
   "source": [
    "# 12. write a program that takes a positive integer N as input and calculates the sum ofthe reciprocals of all numbers from 1 up to N. The program should display the final sum. "
   ]
  },
  {
   "cell_type": "code",
   "execution_count": 45,
   "id": "8f449664-d460-4d43-93fc-8734eee5c984",
   "metadata": {},
   "outputs": [
    {
     "name": "stdin",
     "output_type": "stream",
     "text": [
      "Enter a positive integer:  8\n"
     ]
    },
    {
     "name": "stdout",
     "output_type": "stream",
     "text": [
      "The sum of the reciprocals of numbers from 1 to 8 is: 2.7178571428571425\n"
     ]
    }
   ],
   "source": [
    "N = int(input(\"Enter a positive integer: \"))\n",
    "if N <= 0:\n",
    "    print(\"Please enter a positive integer.\")\n",
    "else:\n",
    "    reciprocal_sum = 0.0\n",
    "    for i in range(1, N + 1):\n",
    "        reciprocal_sum += 1 / i\n",
    "    \n",
    "    print(f\"The sum of the reciprocals of numbers from 1 to {N} is: {reciprocal_sum}\")"
   ]
  },
  {
   "cell_type": "markdown",
   "id": "d59e423d-b24b-4ae8-8f76-04bea13e524e",
   "metadata": {},
   "source": [
    "# 13. Write a program that prompts the user to enter a number and repeats this process 5 times. The program should accumulate the numbers entered and then display the final running total. "
   ]
  },
  {
   "cell_type": "code",
   "execution_count": 48,
   "id": "25f7882d-a1c8-45d6-b40a-2d51f70c26d7",
   "metadata": {},
   "outputs": [
    {
     "name": "stdin",
     "output_type": "stream",
     "text": [
      "Enter number 1:  10\n",
      "Enter number 2:  15\n",
      "Enter number 3:  35\n",
      "Enter number 4:  0\n",
      "Enter number 5:  90\n"
     ]
    },
    {
     "name": "stdout",
     "output_type": "stream",
     "text": [
      "The final running total is: 150.0\n"
     ]
    }
   ],
   "source": [
    "# Initialize the running total variable\n",
    "total = 0\n",
    "\n",
    "# Repeat the process 5 times\n",
    "for i in range(5):\n",
    "    # Prompt the user to enter a number\n",
    "    number = float(input(f\"Enter number {i + 1}: \"))\n",
    "    \n",
    "    # Add the entered number to the total\n",
    "    total += number\n",
    "\n",
    "# Display the final running total\n",
    "print(f\"The final running total is: {total}\")"
   ]
  },
  {
   "cell_type": "markdown",
   "id": "bb7aafa1-532a-4b3d-9511-bc5f55eee11c",
   "metadata": {},
   "source": [
    "# 14. Write a program that prompts the user to enter a positive integer and calculates its factorial. The factorial of a positive integer 'n' is denoted as 'n!' and is calculated by multiplying all the integers from 1 to 'n' together. For example, the factorial of 5(denoted as 5!) is calculated as 1 x 2 x 3 x 4 x 5. The program should display the factorial value if the input is a positive number, or display a message stating that the factorial does not exist for negative numbers.Additionally, for an input of zero, the program should output that the factorial of 0 is 1. "
   ]
  },
  {
   "cell_type": "code",
   "execution_count": 52,
   "id": "28210fc7-c9d3-4293-9996-17b342efea0c",
   "metadata": {},
   "outputs": [
    {
     "name": "stdin",
     "output_type": "stream",
     "text": [
      "Enter a positive integer:  22\n"
     ]
    },
    {
     "name": "stdout",
     "output_type": "stream",
     "text": [
      "The factorial of 22 is: 1124000727777607680000\n"
     ]
    }
   ],
   "source": [
    "def factorial(n):\n",
    "    if n == 0:\n",
    "        return 1\n",
    "    result = 1\n",
    "    for i in range(1, n + 1):\n",
    "        result *= i\n",
    "    return result\n",
    "number = int(input(\"Enter a positive integer: \"))\n",
    "if number < 0:\n",
    "    print(\"Factorial does not exist for negative numbers.\")\n",
    "else:\n",
    "    fact = factorial(number)\n",
    "    print(f\"The factorial of {number} is: {fact}\")"
   ]
  },
  {
   "cell_type": "markdown",
   "id": "e0f6f88c-e1c8-4419-972e-c2cc98b6afec",
   "metadata": {},
   "source": [
    "# 15. Write a Python program that prompts the user to enter a base number and an exponent, and then calculates the power of the base to the exponent. The program should not use the exponentiation operator (**) or the math.pow() function. The program should handle both positive and negative exponents. "
   ]
  },
  {
   "cell_type": "code",
   "execution_count": 1,
   "id": "8d6ea56f-b6c6-4e65-aa29-473bcfb5f835",
   "metadata": {},
   "outputs": [
    {
     "name": "stdin",
     "output_type": "stream",
     "text": [
      "Enter the base number:  2\n",
      "Enter the exponent:  4\n"
     ]
    },
    {
     "name": "stdout",
     "output_type": "stream",
     "text": [
      "2.0 raised to the power of 4 is: 16.0\n"
     ]
    }
   ],
   "source": [
    "def power(base, exponent):\n",
    "    result = 1\n",
    "    if exponent > 0:\n",
    "        for _ in range(exponent):\n",
    "            result *= base\n",
    "    elif exponent < 0:\n",
    "        for _ in range(abs(exponent)):\n",
    "            result *= base\n",
    "        result = 1 / result\n",
    "    elif exponent == 0:\n",
    "        result = 1\n",
    "    return result\n",
    "base = float(input(\"Enter the base number: \"))\n",
    "exponent = int(input(\"Enter the exponent: \"))\n",
    "result = power(base, exponent)\n",
    "print(f\"{base} raised to the power of {exponent} is: {result}\")"
   ]
  },
  {
   "cell_type": "code",
   "execution_count": null,
   "id": "a101d9ea-591a-48ef-ba52-5bf9acc3dde4",
   "metadata": {},
   "outputs": [],
   "source": []
  }
 ],
 "metadata": {
  "kernelspec": {
   "display_name": "Python 3 (ipykernel)",
   "language": "python",
   "name": "python3"
  },
  "language_info": {
   "codemirror_mode": {
    "name": "ipython",
    "version": 3
   },
   "file_extension": ".py",
   "mimetype": "text/x-python",
   "name": "python",
   "nbconvert_exporter": "python",
   "pygments_lexer": "ipython3",
   "version": "3.12.7"
  }
 },
 "nbformat": 4,
 "nbformat_minor": 5
}
