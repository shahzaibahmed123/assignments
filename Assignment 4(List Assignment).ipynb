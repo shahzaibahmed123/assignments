{
 "cells": [
  {
   "cell_type": "markdown",
   "id": "47b0c7d2-2df9-497c-850b-851e86365671",
   "metadata": {},
   "source": [
    "## 1. Write a program that accepts a list from user and print the alternate element of list."
   ]
  },
  {
   "cell_type": "code",
   "execution_count": 4,
   "id": "e7874aa5-05ae-4c03-a00f-dfc26370a0ac",
   "metadata": {},
   "outputs": [
    {
     "name": "stdin",
     "output_type": "stream",
     "text": [
      "Enter the elements of the list separated by spaces:  1234\n"
     ]
    },
    {
     "name": "stdout",
     "output_type": "stream",
     "text": [
      "Alternate elements of the list are: ['1234']\n"
     ]
    }
   ],
   "source": [
    "# Taking input from the user\n",
    "user_input = input(\"Enter the elements of the list separated by spaces: \")\n",
    "\n",
    "# Converting the input string to a list of elements\n",
    "user_list = user_input.split()\n",
    "\n",
    "# Printing the alternate elements of the list\n",
    "print(\"Alternate elements of the list are:\", user_list[::2])\n"
   ]
  },
  {
   "cell_type": "markdown",
   "id": "6e35f037-e392-4f92-ad94-7d2d70679e2e",
   "metadata": {},
   "source": [
    "## 2. Write a program that accepts a list from user. Your program should reverse the content of list and display it. Do not use reverse() method."
   ]
  },
  {
   "cell_type": "code",
   "execution_count": 13,
   "id": "63cbf49c-fa30-4bc6-a03d-e4bb5dcae49c",
   "metadata": {},
   "outputs": [
    {
     "name": "stdin",
     "output_type": "stream",
     "text": [
      "Enter the elements of the list separated by spaces:  123456789\n"
     ]
    },
    {
     "name": "stdout",
     "output_type": "stream",
     "text": [
      "The reversed list is: ['123456789']\n"
     ]
    }
   ],
   "source": [
    "# Taking input from the user\n",
    "user_input = input(\"Enter the elements of the list separated by spaces: \")\n",
    "\n",
    "# Converting the input string to a list of elements\n",
    "user_list = user_input.split()\n",
    "\n",
    "# Reversing the list using slicing\n",
    "reversed_list = user_list[::-1]\n",
    "\n",
    "# Displaying the reversed list\n",
    "print(\"The reversed list is:\", reversed_list)\n"
   ]
  },
  {
   "cell_type": "markdown",
   "id": "7f50dec7-9c8c-4be7-a755-bc346020fcb8",
   "metadata": {},
   "source": [
    "# 3. Find and display the largest number of a list without using built-in function max(). Your program should ask the user to input values in list from keyboard."
   ]
  },
  {
   "cell_type": "code",
   "execution_count": 16,
   "id": "188dfa59-53c9-468b-abb1-f9608649c0fa",
   "metadata": {},
   "outputs": [
    {
     "name": "stdin",
     "output_type": "stream",
     "text": [
      "Enter the numbers in the list separated by spaces:  2343\n"
     ]
    },
    {
     "name": "stdout",
     "output_type": "stream",
     "text": [
      "The largest number in the list is: 2343.0\n"
     ]
    }
   ],
   "source": [
    "# Taking input from the user\n",
    "user_input = input(\"Enter the numbers in the list separated by spaces: \")\n",
    "\n",
    "# Converting the input string to a list of numbers\n",
    "number_list = [float(x) for x in user_input.split()]\n",
    "\n",
    "# Finding the largest number without using the max() function\n",
    "largest_number = number_list[0]\n",
    "for number in number_list:\n",
    "    if number > largest_number:\n",
    "        largest_number = number\n",
    "\n",
    "# Displaying the largest number\n",
    "print(f\"The largest number in the list is: {largest_number}\")\n"
   ]
  },
  {
   "cell_type": "markdown",
   "id": "a0d88b0c-62d3-4b47-9311-ed3005912986",
   "metadata": {},
   "source": [
    "## 4. Write a program that rotates the element of a list so that the element at the first index moves to the second index, the element in the second index moves to the third index, etc., and the element in the last index moves to the first index."
   ]
  },
  {
   "cell_type": "code",
   "execution_count": 21,
   "id": "332b5389-7ff1-4834-a780-00ed92faaa43",
   "metadata": {},
   "outputs": [
    {
     "name": "stdin",
     "output_type": "stream",
     "text": [
      "Enter the elements of the list separated by spaces:  432\n"
     ]
    },
    {
     "name": "stdout",
     "output_type": "stream",
     "text": [
      "The rotated list is: ['432']\n"
     ]
    }
   ],
   "source": [
    "### Taking input from the user\n",
    "user_input = input(\"Enter the elements of the list separated by spaces: \")\n",
    "\n",
    "# Converting the input string to a list of elements\n",
    "user_list = user_input.split()\n",
    "\n",
    "# Rotating the list elements\n",
    "rotated_list = user_list[-1:] + user_list[:-1]\n",
    "\n",
    "# Displaying the rotated list\n",
    "print(\"The rotated list is:\", rotated_list)\n"
   ]
  },
  {
   "cell_type": "markdown",
   "id": "392dc466-1a59-46fa-956e-b34314bf979e",
   "metadata": {},
   "source": [
    "## 5. Write a program that input a string and ask user to delete a given word from a string."
   ]
  },
  {
   "cell_type": "code",
   "execution_count": 24,
   "id": "b74c15a3-8ce4-42d2-85b2-2f5f0b668a97",
   "metadata": {},
   "outputs": [
    {
     "name": "stdin",
     "output_type": "stream",
     "text": [
      "Enter a string:  happy birhtday\n",
      "Enter the word to delete:  t\n"
     ]
    },
    {
     "name": "stdout",
     "output_type": "stream",
     "text": [
      "The string after deleting the word is: happy birhday\n"
     ]
    }
   ],
   "source": [
    "# Taking input from the user\n",
    "input_string = input(\"Enter a string: \")\n",
    "word_to_delete = input(\"Enter the word to delete: \")\n",
    "\n",
    "# Deleting the given word from the string\n",
    "result_string = input_string.replace(word_to_delete, '')\n",
    "\n",
    "# Displaying the result\n",
    "print(\"The string after deleting the word is:\", result_string)\n"
   ]
  },
  {
   "cell_type": "markdown",
   "id": "4d559228-2b48-4c0a-85f7-5e9bd9f1fc3f",
   "metadata": {},
   "source": [
    "## 6. Write a program that reads a string from the user containing a date in the form mm/dd/yyyy. It should print the date in the form March 12, 2021."
   ]
  },
  {
   "cell_type": "code",
   "execution_count": 27,
   "id": "eb08f305-b4c5-4733-97dc-61f91f69105c",
   "metadata": {},
   "outputs": [
    {
     "name": "stdin",
     "output_type": "stream",
     "text": [
      "Enter a date in the form mm/dd/yyyy:  12/2/2023\n"
     ]
    },
    {
     "name": "stdout",
     "output_type": "stream",
     "text": [
      "The formatted date is: December 2, 2023\n"
     ]
    }
   ],
   "source": [
    "# Dictionary to map month numbers to month names\n",
    "month_names = {\n",
    "    '01': 'January', '02': 'February', '03': 'March', '04': 'April',\n",
    "    '05': 'May', '06': 'June', '07': 'July', '08': 'August',\n",
    "    '09': 'September', '10': 'October', '11': 'November', '12': 'December'\n",
    "}\n",
    "\n",
    "# Taking input from the user\n",
    "date_string = input(\"Enter a date in the form mm/dd/yyyy: \")\n",
    "\n",
    "# Splitting the input string into month, day, and year\n",
    "month, day, year = date_string.split('/')\n",
    "\n",
    "# Converting the month number to month name\n",
    "month_name = month_names[month]\n",
    "\n",
    "# Formatting the date in the required form\n",
    "formatted_date = f\"{month_name} {int(day)}, {year}\"\n",
    "\n",
    "# Displaying the result\n",
    "print(\"The formatted date is:\", formatted_date)\n"
   ]
  },
  {
   "cell_type": "markdown",
   "id": "497b684a-7a21-4221-b318-f91244234ab4",
   "metadata": {},
   "source": [
    "## 7. Write a program with a function that accepts a string from keyboard and create a new string after converting character of each word capitalized. For instance, if the sentence is \"stop and smell the roses.\" the output should be \"Stop And Smell The Roses\""
   ]
  },
  {
   "cell_type": "code",
   "execution_count": 30,
   "id": "a2ee5b3f-09d1-484c-8efc-58652348c855",
   "metadata": {},
   "outputs": [
    {
     "name": "stdin",
     "output_type": "stream",
     "text": [
      "Enter a sentence:  my name is ali\n"
     ]
    },
    {
     "name": "stdout",
     "output_type": "stream",
     "text": [
      "The capitalized sentence is: My Name Is Ali\n"
     ]
    }
   ],
   "source": [
    "def capitalize_words(input_string):\n",
    "    # Splitting the string into words\n",
    "    words = input_string.split()\n",
    "    # Capitalizing the first letter of each word\n",
    "    capitalized_words = [word.capitalize() for word in words]\n",
    "    # Joining the words back into a single string\n",
    "    capitalized_string = ' '.join(capitalized_words)\n",
    "    return capitalized_string\n",
    "\n",
    "# Taking input from the user\n",
    "input_string = input(\"Enter a sentence: \")\n",
    "\n",
    "# Using the function to capitalize each word\n",
    "result = capitalize_words(input_string)\n",
    "\n",
    "# Displaying the result\n",
    "print(\"The capitalized sentence is:\", result)\n"
   ]
  },
  {
   "cell_type": "markdown",
   "id": "0d3dd939-dada-4999-a2e9-d5d31a47de15",
   "metadata": {},
   "source": [
    "## 8. Find the sum of each row of matrix of size m x n. For example for the following matrix output will be\n",
    "like this :\n",
    "\n",
    "Sum of row 1 = 32\n",
    "Sum of row 2 = 31\n",
    "Sum of row 3 = 63"
   ]
  },
  {
   "cell_type": "code",
   "execution_count": 36,
   "id": "2a0fe1cc-931b-49ec-82d4-c9c8cf346293",
   "metadata": {},
   "outputs": [
    {
     "name": "stdout",
     "output_type": "stream",
     "text": [
      "Sum of row 1 = 32\n",
      "Sum of row 2 = 31\n",
      "Sum of row 3 = 63\n"
     ]
    }
   ],
   "source": [
    "def sum_of_rows(matrix):\n",
    "    row_sums = []\n",
    "    for row in matrix:\n",
    "        row_sum = sum(row)\n",
    "        row_sums.append(row_sum)\n",
    "    return row_sums\n",
    "\n",
    "# Example matrix\n",
    "matrix = [\n",
    "    [8, 11, 7, 6],\n",
    "    [10, 12, 6, 3],\n",
    "    [20, 15, 17, 11]\n",
    "]\n",
    "\n",
    "# Calculating the sum of each row\n",
    "row_sums = sum_of_rows(matrix)\n",
    "\n",
    "# Displaying the results\n",
    "for i, row_sum in enumerate(row_sums):\n",
    "    print(f\"Sum of row {i + 1} = {row_sum}\")\n"
   ]
  },
  {
   "cell_type": "markdown",
   "id": "b87540db-108c-46d6-b4a9-58d27069b72c",
   "metadata": {},
   "source": [
    "## \n",
    "9. Write a program to add two matrices of size n x m."
   ]
  },
  {
   "cell_type": "code",
   "execution_count": 39,
   "id": "cc585d4e-ebb4-4f73-acea-20e514454587",
   "metadata": {},
   "outputs": [
    {
     "name": "stdout",
     "output_type": "stream",
     "text": [
      "The resultant matrix is:\n",
      "[10, 10, 10]\n",
      "[10, 10, 10]\n",
      "[10, 10, 10]\n"
     ]
    }
   ],
   "source": [
    "def add_matrices(matrix1, matrix2):\n",
    "    result_matrix = []\n",
    "    for i in range(len(matrix1)):\n",
    "        row = []\n",
    "        for j in range(len(matrix1[0])):\n",
    "            row.append(matrix1[i][j] + matrix2[i][j])\n",
    "        result_matrix.append(row)\n",
    "    return result_matrix\n",
    "\n",
    "# Example matrices\n",
    "matrix1 = [\n",
    "    [1, 2, 3],\n",
    "    [4, 5, 6],\n",
    "    [7, 8, 9]\n",
    "]\n",
    "\n",
    "matrix2 = [\n",
    "    [9, 8, 7],\n",
    "    [6, 5, 4],\n",
    "    [3, 2, 1]\n",
    "]\n",
    "\n",
    "# Adding the matrices\n",
    "result_matrix = add_matrices(matrix1, matrix2)\n",
    "\n",
    "# Displaying the result\n",
    "print(\"The resultant matrix is:\")\n",
    "for row in result_matrix:\n",
    "    print(row)\n"
   ]
  },
  {
   "cell_type": "markdown",
   "id": "9c58f982-d1a8-4883-9c34-4755f2f681c3",
   "metadata": {},
   "source": [
    "## 10. Write a program to multiply two matrices"
   ]
  },
  {
   "cell_type": "code",
   "execution_count": 42,
   "id": "5a5f2911-e07d-4383-a8e1-2e82c84bfcdb",
   "metadata": {},
   "outputs": [],
   "source": [
    "def multiply_matrices(matrix1, matrix2):\n",
    "    # Number of rows and columns\n",
    "    rows_matrix1 = len(matrix1)\n",
    "    cols_matrix1 = len(matrix1[0])\n",
    "    cols_matrix2 = len(matrix2[0])\n",
    "\n",
    "    # Initializing the result matrix with zeros\n",
    "    result_matrix = [[0 for _ in range(cols_matrix2)] for _ in range(rows_matrix1)]\n",
    "\n",
    "    # Multiplying the matrices\n",
    "    for i in range(rows_matrix1):\n",
    "        for j in range(cols_matrix2):\n",
    "            for k in range(cols_matrix1):\n",
    "                result_matrix[i][j] += matrix1[i][k] * matrix2[k][j]\n",
    "\n",
    "    return result_matrix\n",
    "\n",
    "# Example"
   ]
  },
  {
   "cell_type": "code",
   "execution_count": null,
   "id": "d07827b2-71e0-49ab-aa35-49524483db37",
   "metadata": {},
   "outputs": [],
   "source": []
  }
 ],
 "metadata": {
  "kernelspec": {
   "display_name": "Python 3 (ipykernel)",
   "language": "python",
   "name": "python3"
  },
  "language_info": {
   "codemirror_mode": {
    "name": "ipython",
    "version": 3
   },
   "file_extension": ".py",
   "mimetype": "text/x-python",
   "name": "python",
   "nbconvert_exporter": "python",
   "pygments_lexer": "ipython3",
   "version": "3.12.7"
  }
 },
 "nbformat": 4,
 "nbformat_minor": 5
}
