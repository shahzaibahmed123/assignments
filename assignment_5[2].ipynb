{
 "cells": [
  {
   "cell_type": "markdown",
   "id": "9743beef-91b5-42e6-aed1-d77f6e0fb1fc",
   "metadata": {},
   "source": [
    "# You need to write a function in python that return all such numbers which are divisible by 7 but are not a multiple of 5, between 2000 and 3200 (both included).Return the obtained numbers in a comma-separated sequence on a single line."
   ]
  },
  {
   "cell_type": "code",
   "execution_count": 10,
   "id": "6e46bc72-baad-46f2-8bc1-843e103f9f0d",
   "metadata": {},
   "outputs": [
    {
     "name": "stdout",
     "output_type": "stream",
     "text": [
      "2002,2009,2016,2023,2037,2044,2051,2058,2072,2079,2086,2093,2107,2114,2121,2128,2142,2149,2156,2163,2177,2184,2191,2198,2212,2219,2226,2233,2247,2254,2261,2268,2282,2289,2296,2303,2317,2324,2331,2338,2352,2359,2366,2373,2387,2394,2401,2408,2422,2429,2436,2443,2457,2464,2471,2478,2492,2499,2506,2513,2527,2534,2541,2548,2562,2569,2576,2583,2597,2604,2611,2618,2632,2639,2646,2653,2667,2674,2681,2688,2702,2709,2716,2723,2737,2744,2751,2758,2772,2779,2786,2793,2807,2814,2821,2828,2842,2849,2856,2863,2877,2884,2891,2898,2912,2919,2926,2933,2947,2954,2961,2968,2982,2989,2996,3003,3017,3024,3031,3038,3052,3059,3066,3073,3087,3094,3101,3108,3122,3129,3136,3143,3157,3164,3171,3178,3192,3199\n"
     ]
    }
   ],
   "source": [
    "def find_numbers():\n",
    "    \"\"\"\n",
    "    Find numbers between 2000 and 3200 that are divisible by 7 but not multiples of 5.\n",
    "\n",
    "    Returns:\n",
    "    str: A comma-separated sequence of such numbers.\n",
    "    \"\"\"\n",
    "    numbers = [str(i) for i in range(2000, 3201) if i % 7 == 0 and i % 5 != 0]\n",
    "    return ','.join(numbers)\n",
    "\n",
    "# Get the result and print it\n",
    "result = find_numbers()\n",
    "print(result)"
   ]
  },
  {
   "cell_type": "markdown",
   "id": "c78df0da-7821-4f0c-b72b-9ce7c9b52f05",
   "metadata": {},
   "source": [
    "# You need code a function that calculates and returns the value according to thegiven formula:\n",
    "    P = Square root of [(2 * A * B)/C]\n",
    "# Following are the fixed values of A and B:\n",
    "    A is 50. B is 30.\n",
    "# The values of the literal C should be taken as console input to your program in a comma-separated sequence.\n",
    "    Example\n",
    "# Let us assume the following comma separated input sequence is given to the program:\n",
    "    100,150,180\n",
    "# The output of the program should be:\n",
    "    18,22,24"
   ]
  },
  {
   "cell_type": "code",
   "execution_count": 14,
   "id": "7c6c0c75-5a8d-4b8f-9746-247632e47938",
   "metadata": {},
   "outputs": [
    {
     "name": "stdin",
     "output_type": "stream",
     "text": [
      "Enter values of C (comma-separated):  100,150,180\n"
     ]
    },
    {
     "name": "stdout",
     "output_type": "stream",
     "text": [
      "5,4,4\n"
     ]
    }
   ],
   "source": [
    "import math\n",
    "\n",
    "def calculate_p():\n",
    "    \"\"\"\n",
    "    Calculate the value of P using the formula:\n",
    "    P = sqrt((2 * A * B) / C)\n",
    "    \n",
    "    Fixed values:\n",
    "    A = 50, B = 30\n",
    "    \n",
    "    The values of C are taken as a comma-separated input from the user.\n",
    "    \n",
    "    Returns:\n",
    "    str: Comma-separated results of P for each input value of C.\n",
    "    \"\"\"\n",
    "    # Fixed values\n",
    "    A = 50\n",
    "    B = 30\n",
    "\n",
    "    # Taking input for C as a comma-separated string\n",
    "    input_values = input(\"Enter values of C (comma-separated): \")\n",
    "    C_values = [int(c) for c in input_values.split(\",\")]\n",
    "\n",
    "    # Calculating P for each C and collecting results\n",
    "    results = [str(int(math.sqrt((2 * A * B) / C))) for C in C_values]\n",
    "    return ','.join(results)\n",
    "output = calculate_p()\n",
    "print(output)\n"
   ]
  },
  {
   "cell_type": "markdown",
   "id": "2104c96c-a0c3-40a0-862f-6689ac4a6c05",
   "metadata": {},
   "source": [
    "# You need to write a function that takes a comma separated sequence of words as input and prints the words in a comma-separated sequence after sorting them alphabetically.\n",
    "    Suppose the following input is supplied to the program:\n",
    "    without,hello,bag,world\n",
    "    Then, the output should be:\n",
    "    bag,hello,without,world"
   ]
  },
  {
   "cell_type": "code",
   "execution_count": 16,
   "id": "e72eb30a-8ac6-4836-ac9a-78c61d5887ff",
   "metadata": {},
   "outputs": [
    {
     "name": "stdin",
     "output_type": "stream",
     "text": [
      "Enter a comma-separated sequence of words:  without,hello,bag,world\n"
     ]
    },
    {
     "name": "stdout",
     "output_type": "stream",
     "text": [
      "bag,hello,without,world\n"
     ]
    }
   ],
   "source": [
    "def sort_words():\n",
    "    \"\"\"\n",
    "    Takes a comma-separated sequence of words as input and sorts them alphabetically.\n",
    "    \n",
    "    Returns:\n",
    "    str: Comma-separated sorted words.\n",
    "    \"\"\"\n",
    "    # Taking input for the words as a comma-separated string\n",
    "    input_words = input(\"Enter a comma-separated sequence of words: \")\n",
    "    \n",
    "    # Splitting the input string into a list of words\n",
    "    words = input_words.split(\",\")\n",
    "    \n",
    "    # Sorting the list alphabetically\n",
    "    sorted_words = sorted(words)\n",
    "    \n",
    "    # Joining the sorted list back into a comma-separated string\n",
    "    return \",\".join(sorted_words)\n",
    "\n",
    "# Run the function and print the result\n",
    "output = sort_words()\n",
    "print(output)\n"
   ]
  },
  {
   "cell_type": "markdown",
   "id": "6c45605f-f91a-4f01-b665-82b0f17e98d7",
   "metadata": {},
   "source": [
    "# You need to write a program that takes sequence of lines as input and prints the lines after making all characters in the sentence capitalized.\n",
    "    Suppose the following input is supplied to the program:\n",
    "    Hello world\n",
    "    Practice makes perfect\n",
    "    Then, the output should be:"
   ]
  },
  {
   "cell_type": "code",
   "execution_count": 18,
   "id": "938ec798-6e05-4125-bf70-10419035a2cc",
   "metadata": {},
   "outputs": [
    {
     "name": "stdout",
     "output_type": "stream",
     "text": [
      "Enter lines of text (press Enter twice to finish):\n"
     ]
    },
    {
     "name": "stdin",
     "output_type": "stream",
     "text": [
      " Hello world Practice makes perfect\n",
      " \n"
     ]
    },
    {
     "name": "stdout",
     "output_type": "stream",
     "text": [
      "HELLO WORLD PRACTICE MAKES PERFECT\n"
     ]
    }
   ],
   "source": [
    "def capitalize_lines():\n",
    "    \"\"\"\n",
    "    Takes a sequence of lines as input and prints each line with all characters capitalized.\n",
    "    \"\"\"\n",
    "    print(\"Enter lines of text (press Enter twice to finish):\")\n",
    "    lines = []\n",
    "    \n",
    "    while True:\n",
    "        line = input()  # Take input line by line\n",
    "        if line.strip() == \"\":  # Exit on an empty line\n",
    "            break\n",
    "        lines.append(line.upper())  # Convert the line to uppercase and add to the list\n",
    "    \n",
    "    # Print the capitalized lines\n",
    "    for capitalized_line in lines:\n",
    "        print(capitalized_line)\n",
    "\n",
    "# Run the function\n",
    "capitalize_lines()\n"
   ]
  },
  {
   "cell_type": "markdown",
   "id": "310a378d-6117-4c9d-8103-d2cc5e8ceab3",
   "metadata": {},
   "source": [
    "# You need to write a function that counts the number of vowels in a given sentence as input from console.\n",
    "    Suppose the following input is supplied to the program:\n",
    "    Hello world\n",
    "    Practice makes perfect\n",
    "    Then, the output should be:\n",
    "    a appeared 2 times\n",
    "    e appeared 5 times\n",
    "    i appeared 1 time\n",
    "    o appeared 2 times\n",
    "    u appeared 0 timeS\n",
    "# PRACTICE MAKES PERFECT"
   ]
  },
  {
   "cell_type": "code",
   "execution_count": 20,
   "id": "d069aeaa-57e5-425c-9d09-19f01dbb673f",
   "metadata": {},
   "outputs": [
    {
     "name": "stdin",
     "output_type": "stream",
     "text": [
      "Enter a sentence:  Hello world Practice makes perfect\n"
     ]
    },
    {
     "name": "stdout",
     "output_type": "stream",
     "text": [
      "a appeared 2 times\n",
      "e appeared 5 times\n",
      "i appeared 1 time\n",
      "o appeared 2 times\n",
      "u appeared 0 times\n",
      "HELLO WORLD PRACTICE MAKES PERFECT\n"
     ]
    }
   ],
   "source": [
    "def count_vowels():\n",
    "    \"\"\"\n",
    "    Counts the number of each vowel (a, e, i, o, u) in the given sentence.\n",
    "    \"\"\"\n",
    "    # Taking input from the user\n",
    "    sentence = input(\"Enter a sentence: \")\n",
    "\n",
    "    # Convert the sentence to lowercase for case-insensitive counting\n",
    "    sentence_lower = sentence.lower()\n",
    "\n",
    "    # Define vowels\n",
    "    vowels = \"aeiou\"\n",
    "    \n",
    "    # Count each vowel in the sentence\n",
    "    vowel_counts = {vowel: sentence_lower.count(vowel) for vowel in vowels}\n",
    "\n",
    "    # Print the count of each vowel\n",
    "    for vowel, count in vowel_counts.items():\n",
    "        print(f\"{vowel} appeared {count} time{'s' if count != 1 else ''}\")\n",
    "    \n",
    "    # Print the original sentence in uppercase\n",
    "    print(sentence.upper())\n",
    "\n",
    "# Run the function\n",
    "count_vowels()\n"
   ]
  },
  {
   "cell_type": "markdown",
   "id": "16406c2a-0209-43f0-a20a-7ccd2d4b3370",
   "metadata": {},
   "source": [
    "# You need write a function that traces and makes a list of all such numbers from1000 to 3000 in which all the digits are even numbers."
   ]
  },
  {
   "cell_type": "code",
   "execution_count": 27,
   "id": "2058139b-48d4-488d-b46d-21c9e85c420c",
   "metadata": {},
   "outputs": [
    {
     "name": "stdout",
     "output_type": "stream",
     "text": [
      "2000,2002,2004,2006,2008,2020,2022,2024,2026,2028,2040,2042,2044,2046,2048,2060,2062,2064,2066,2068,2080,2082,2084,2086,2088,2200,2202,2204,2206,2208,2220,2222,2224,2226,2228,2240,2242,2244,2246,2248,2260,2262,2264,2266,2268,2280,2282,2284,2286,2288,2400,2402,2404,2406,2408,2420,2422,2424,2426,2428,2440,2442,2444,2446,2448,2460,2462,2464,2466,2468,2480,2482,2484,2486,2488,2600,2602,2604,2606,2608,2620,2622,2624,2626,2628,2640,2642,2644,2646,2648,2660,2662,2664,2666,2668,2680,2682,2684,2686,2688,2800,2802,2804,2806,2808,2820,2822,2824,2826,2828,2840,2842,2844,2846,2848,2860,2862,2864,2866,2868,2880,2882,2884,2886,2888\n"
     ]
    }
   ],
   "source": [
    "def find_even_digit_numbers():\n",
    "    \"\"\"\n",
    "    Finds all numbers between 1000 and 3000 where all digits are even.\n",
    "    \"\"\"\n",
    "    even_digit_numbers = []\n",
    "\n",
    "    # Iterate through the numbers from 1000 to 3000\n",
    "    for num in range(1000, 3001):\n",
    "        # Convert the number to a string and check if all digits are even\n",
    "        if all(int(digit) % 2 == 0 for digit in str(num)):\n",
    "            even_digit_numbers.append(str(num))\n",
    "\n",
    "    # Return the list as a comma-separated string\n",
    "    return ','.join(even_digit_numbers)\n",
    "\n",
    "# Run the function and print the result\n",
    "output = find_even_digit_numbers()\n",
    "print(output)\n"
   ]
  },
  {
   "cell_type": "markdown",
   "id": "617e5493-b8ff-489d-8552-25b16db4e807",
   "metadata": {},
   "source": [
    "# You need to write a code which accepts a sequence of comma separated 4 digit binary numbers as its input and then check whether they are divisible by 5 or not.The numbers that are divisible by 5 are to be printed in a comma separated sequence.\n",
    "    Example:\n",
    "    0100,0011,1010,1001\n",
    "    Then the output should be:\n",
    "    1010"
   ]
  },
  {
   "cell_type": "code",
   "execution_count": 31,
   "id": "1bf20a9a-fa56-4859-adaf-b0d443266e5f",
   "metadata": {},
   "outputs": [
    {
     "name": "stdout",
     "output_type": "stream",
     "text": [
      "2000,2002,2004,2006,2008,2020,2022,2024,2026,2028,2040,2042,2044,2046,2048,2060,2062,2064,2066,2068,2080,2082,2084,2086,2088,2200,2202,2204,2206,2208,2220,2222,2224,2226,2228,2240,2242,2244,2246,2248,2260,2262,2264,2266,2268,2280,2282,2284,2286,2288,2400,2402,2404,2406,2408,2420,2422,2424,2426,2428,2440,2442,2444,2446,2448,2460,2462,2464,2466,2468,2480,2482,2484,2486,2488,2600,2602,2604,2606,2608,2620,2622,2624,2626,2628,2640,2642,2644,2646,2648,2660,2662,2664,2666,2668,2680,2682,2684,2686,2688,2800,2802,2804,2806,2808,2820,2822,2824,2826,2828,2840,2842,2844,2846,2848,2860,2862,2864,2866,2868,2880,2882,2884,2886,2888\n"
     ]
    }
   ],
   "source": [
    "def find_even_digit_numbers():\n",
    "    \"\"\"\n",
    "    Finds all numbers between 1000 and 3000 where all digits are even.\n",
    "    \"\"\"\n",
    "    even_digit_numbers = []\n",
    "\n",
    "    # Iterate through the numbers from 1000 to 3000\n",
    "    for num in range(1000, 3001):\n",
    "        # Convert the number to a string and check if all digits are even\n",
    "        if all(int(digit) % 2 == 0 for digit in str(num)):\n",
    "            even_digit_numbers.append(str(num))\n",
    "\n",
    "    # Return the list as a comma-separated string\n",
    "    return ','.join(even_digit_numbers)\n",
    "\n",
    "# Run the function and print the result\n",
    "output = find_even_digit_numbers()\n",
    "print(output)\n"
   ]
  },
  {
   "cell_type": "markdown",
   "id": "30b412ce-26ce-42f7-915c-cf1574d5567e",
   "metadata": {},
   "source": [
    "# Write a program that accepts a sentence and calculate the number of letters and digits.\n",
    "    Suppose the following input is supplied to the program:\n",
    "    hello world! 123\n",
    "    Then, the output should be:\n",
    "    LETTERS 10\n",
    "    DIGITS 3"
   ]
  },
  {
   "cell_type": "code",
   "execution_count": 33,
   "id": "b63d8dbc-14ea-4e4a-8913-18a18ac6bc2b",
   "metadata": {},
   "outputs": [
    {
     "name": "stdin",
     "output_type": "stream",
     "text": [
      "Enter a sentence:  hello world! 123\n"
     ]
    },
    {
     "name": "stdout",
     "output_type": "stream",
     "text": [
      "LETTERS 10\n",
      "DIGITS 3\n"
     ]
    }
   ],
   "source": [
    "def count_letters_and_digits():\n",
    "    \"\"\"\n",
    "    Accepts a sentence and calculates the number of letters and digits in it.\n",
    "    \"\"\"\n",
    "    # Taking input from the user\n",
    "    sentence = input(\"Enter a sentence: \")\n",
    "    \n",
    "    # Initialize counters for letters and digits\n",
    "    letters = 0\n",
    "    digits = 0\n",
    "    \n",
    "    # Loop through each character in the sentence\n",
    "    for char in sentence:\n",
    "        if char.isalpha():  # Check if the character is a letter\n",
    "            letters += 1\n",
    "        elif char.isdigit():  # Check if the character is a digit\n",
    "            digits += 1\n",
    "    \n",
    "    # Print the result\n",
    "    print(f\"LETTERS {letters}\")\n",
    "    print(f\"DIGITS {digits}\")\n",
    "\n",
    "# Run the function\n",
    "count_letters_and_digits()\n"
   ]
  },
  {
   "cell_type": "code",
   "execution_count": null,
   "id": "040f8449-1f15-476d-8283-4e20c6eb298b",
   "metadata": {},
   "outputs": [],
   "source": []
  }
 ],
 "metadata": {
  "kernelspec": {
   "display_name": "Python 3 (ipykernel)",
   "language": "python",
   "name": "python3"
  },
  "language_info": {
   "codemirror_mode": {
    "name": "ipython",
    "version": 3
   },
   "file_extension": ".py",
   "mimetype": "text/x-python",
   "name": "python",
   "nbconvert_exporter": "python",
   "pygments_lexer": "ipython3",
   "version": "3.12.7"
  }
 },
 "nbformat": 4,
 "nbformat_minor": 5
}
