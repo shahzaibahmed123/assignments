{
 "cells": [
  {
   "cell_type": "markdown",
   "id": "4d4fad75-449d-4c62-a84f-7eaa06036ceb",
   "metadata": {},
   "source": [
    "# 1. Write a Python function to find the maximum of three numbers."
   ]
  },
  {
   "cell_type": "code",
   "execution_count": 30,
   "id": "f6f59c43-6cfd-4ab7-834d-130447c12ffb",
   "metadata": {},
   "outputs": [
    {
     "name": "stdout",
     "output_type": "stream",
     "text": [
      "20\n"
     ]
    }
   ],
   "source": [
    "def find_max(a, b, c):\n",
    "    if a >= b and a >= c:\n",
    "        return a\n",
    "    elif b >= a and b >= c:\n",
    "        return b\n",
    "    else:\n",
    "        return c\n",
    "print(find_max(10, 20, 15))\n"
   ]
  },
  {
   "cell_type": "markdown",
   "id": "b9f16784-1f8f-486b-9353-e39fe9e0dbad",
   "metadata": {},
   "source": [
    "# 2. Write a Python function to sum all the numbers in a list.\n",
    "        Sample List : (8, 2, 3, 0, 7)\n",
    "        Expected Output : 20"
   ]
  },
  {
   "cell_type": "code",
   "execution_count": 3,
   "id": "45d66878-ea2b-4df6-af85-03266222a47a",
   "metadata": {},
   "outputs": [
    {
     "name": "stdout",
     "output_type": "stream",
     "text": [
      "20\n"
     ]
    }
   ],
   "source": [
    "def sum_of_list(numbers):\n",
    "    return sum(numbers)\n",
    "sample_list = [8, 2, 3, 0, 7]\n",
    "print(sum_of_list(sample_list))  \n"
   ]
  },
  {
   "cell_type": "markdown",
   "id": "aa242d55-4a6a-47f5-8cad-08e3aadb2d6d",
   "metadata": {},
   "source": [
    "# 3. Write a Python function to multiply all the numbers in a list.\n",
    "        Sample List : (8, 2, 3, -1, 7)\n",
    "        Expected Output : -336"
   ]
  },
  {
   "cell_type": "code",
   "execution_count": null,
   "id": "3484a928-05fb-43f7-bdf0-39d3b9bc8b7d",
   "metadata": {},
   "outputs": [],
   "source": [
    "def multiply_of_list(numbers):\n",
    "    result = 1\n",
    "    for num in numbers:\n",
    "        result *= num\n",
    "    return result\n",
    "\n",
    "sample_list = [8, 2, 3, -1, 7]\n",
    "print(multiply_of_list(sample_list)) \n"
   ]
  },
  {
   "cell_type": "markdown",
   "id": "4380e977-a676-480c-ad2b-024ad1166908",
   "metadata": {},
   "source": [
    "# 4. Write a Python program to reverse a string.\n",
    "        Sample String : \"1234abcd\"\n",
    "        Expected Output : \"dcba4321\""
   ]
  },
  {
   "cell_type": "code",
   "execution_count": null,
   "id": "201af9b2-b215-49cb-b682-535a1d202843",
   "metadata": {},
   "outputs": [],
   "source": [
    "def reverse_string(s):\n",
    "    return s[::-1]\n",
    "sample_string = \"1234abcd\"\n",
    "print(reverse_string(sample_string)) \n"
   ]
  },
  {
   "cell_type": "markdown",
   "id": "9e39f036-f312-4d7e-80a0-245c0b8bd1f4",
   "metadata": {},
   "source": [
    "# 5. Write a Python function to calculate the factorial of a number (a non-negative integer). The function accepts the number as an argument."
   ]
  },
  {
   "cell_type": "code",
   "execution_count": null,
   "id": "4b3e739a-014d-4a41-90f6-755de357ded5",
   "metadata": {},
   "outputs": [],
   "source": [
    "def factorial(n):\n",
    "    if n == 0 or n == 1:\n",
    "        return 1\n",
    "    result = 1\n",
    "    for i in range(2, n + 1):\n",
    "        result *= i\n",
    "    return result\n",
    "number = 5\n",
    "print(factorial(number))\n"
   ]
  },
  {
   "cell_type": "markdown",
   "id": "70e52a1c-c5e0-41c5-8471-1b2094bd22f2",
   "metadata": {},
   "source": [
    "# 6. Write a Python function to check whether a number falls within a given range."
   ]
  },
  {
   "cell_type": "code",
   "execution_count": null,
   "id": "253dca3c-8bb5-4bc5-9dd6-499b309f54ce",
   "metadata": {},
   "outputs": [],
   "source": [
    "def is_within_range(number, start, end):\n",
    "    return start <= number <= end\n",
    "\n",
    "# for example\n",
    "number = 5\n",
    "start = 1\n",
    "end = 10\n",
    "print(is_within_range(number, start, end))\n",
    "\n",
    "# Example with number outside the range\n",
    "number = 15\n",
    "print(is_within_range(number, start, end)) \n"
   ]
  },
  {
   "cell_type": "markdown",
   "id": "16d02274-44aa-4dbb-99f9-e7b74b183949",
   "metadata": {},
   "source": [
    "# 7. Write a Python function that accepts a string and counts the number of upper and lower case letters.\n",
    "    Sample String : 'The quick Brow Fox'\n",
    "    Expected Output :\n",
    "    No. of Upper case characters : 3\n",
    "    No. of Lower case Characters : 12"
   ]
  },
  {
   "cell_type": "code",
   "execution_count": null,
   "id": "8954d311-97c9-497b-9f60-ad6c732922ca",
   "metadata": {},
   "outputs": [],
   "source": [
    "def count_case_letters(s):\n",
    "    upper_count = 0\n",
    "    lower_count = 0\n",
    "    for char in s:\n",
    "        if char.isupper():\n",
    "            upper_count += 1\n",
    "        elif char.islower():\n",
    "            lower_count += 1\n",
    "    return upper_count, lower_count\n",
    "sample_string = \"The quick Brow Fox\"\n",
    "upper, lower = count_case_letters(sample_string)\n",
    "print(f\"No. of Upper case characters: {upper}\")  \n",
    "print(f\"No. of Lower case characters: {lower}\")  \n"
   ]
  },
  {
   "cell_type": "markdown",
   "id": "f6186c58-819a-4fba-93ef-9c69ad6e6a1f",
   "metadata": {},
   "source": [
    "# 8. Write a Python function that takes a list and returns a new list with distinct\n",
    "        elements from the first list.\n",
    "        Sample List : [1,2,3,3,3,3,4,5]\n",
    "        Unique List : [1, 2, 3, 4, 5]"
   ]
  },
  {
   "cell_type": "code",
   "execution_count": null,
   "id": "4b8b63d8-9489-41c3-84cf-448443f932a7",
   "metadata": {},
   "outputs": [],
   "source": [
    "def get_unique_elements(input_list):\n",
    "    return list(set(input_list))\n",
    "sample_list = [1, 2, 3, 3, 3, 3, 4, 5]\n",
    "unique_list = get_unique_elements(sample_list)\n",
    "print(\"Unique List:\", unique_list)  \n"
   ]
  },
  {
   "cell_type": "markdown",
   "id": "033a108f-dbf6-4799-9906-6b10348dbbd7",
   "metadata": {},
   "source": [
    "# 9. Write a Python function that takes a number as a parameter and checks whether the number is prime or not.\n",
    "    Note : A prime number (or a prime) is a natural number greater than 1 and that\n",
    "    has no positive divisors other than 1 and itself."
   ]
  },
  {
   "cell_type": "code",
   "execution_count": null,
   "id": "ae6acf34-4e66-4ea1-a7d1-b15338972d52",
   "metadata": {},
   "outputs": [],
   "source": [
    "def is_prime(number):\n",
    "    if number <= 1:\n",
    "        return False\n",
    "    for i in range(2, int(number ** 0.5) + 1):\n",
    "        if number % i == 0:\n",
    "            return False\n",
    "    return True\n",
    "num = 11\n",
    "print(is_prime(num)) \n",
    "\n",
    "num = 15\n",
    "print(is_prime(num)) \n"
   ]
  },
  {
   "cell_type": "markdown",
   "id": "84c2aa0b-524d-4f72-94c7-9811143b903c",
   "metadata": {},
   "source": [
    "# 10. Write a Python program to print the even numbers from a given list.\n",
    "        Sample List : [1, 2, 3, 4, 5, 6, 7, 8, 9]\n",
    "        Expected Result : [2, 4, 6, 8]"
   ]
  },
  {
   "cell_type": "code",
   "execution_count": null,
   "id": "8e036574-4469-4300-82e9-613af848dd0a",
   "metadata": {},
   "outputs": [],
   "source": [
    "# Sample list\n",
    "sample_list = [1, 2, 3, 4, 5, 6, 7, 8, 9]\n",
    "\n",
    "# Filter even numbers\n",
    "even_numbers = [num for num in sample_list if num % 2 == 0]\n",
    "\n",
    "# Print the result\n",
    "print(even_numbers)\n"
   ]
  },
  {
   "cell_type": "markdown",
   "id": "21cbd395-1033-4ada-b9ca-e6477f138732",
   "metadata": {},
   "source": [
    "# 11. Write a Python function to check whether a number is \"Perfect\" or not.According to Wikipedia : In number theory, a perfect number is a positive integer that is equal to the sum of its proper positive divisors, that is, the sum of its positive divisors excluding the number itself (also known as its aliquot sum).Equivalently, a perfect number is a number that is half the sum of all of its positive divisors (including itself).\n",
    "    Example : The first perfect number is 6, because 1, 2, and 3 are its proper positive\n",
    "    divisors, and 1 + 2 + 3 = 6. Equivalently, the number 6 is equal to half the sum of\n",
    "    all its positive divisors: ( 1 + 2 + 3 + 6 ) / 2 = 6. The next perfect number is 28 = 1 +\n",
    "    2 + 4 + 7 + 14. This is followed by the perfect numbers 496 and 8128."
   ]
  },
  {
   "cell_type": "code",
   "execution_count": null,
   "id": "b4a31bd6-de0e-4801-b8af-460c69fb9065",
   "metadata": {},
   "outputs": [],
   "source": [
    "def is_perfect_number(n):\n",
    "    \"\"\"\n",
    "    Check if a number is a perfect number.\n",
    "    \n",
    "    A perfect number is a positive integer that is equal to the sum of its proper divisors\n",
    "    (excluding itself).\n",
    "    \n",
    "    Parameters:\n",
    "    n (int): The number to check.\n",
    "    \n",
    "    Returns:\n",
    "    bool: True if n is a perfect number, False otherwise.\n",
    "    \"\"\"\n",
    "    if n < 2:\n",
    "        return False  # No perfect numbers less than 2\n",
    "\n",
    "    # Find all proper divisors of n\n",
    "    proper_divisors = [i for i in range(1, n // 2 + 1) if n % i == 0]\n",
    "    \n",
    "    # Check if the sum of the divisors equals the number\n",
    "    return sum(proper_divisors) == n\n",
    "\n",
    "# Test the function\n",
    "test_numbers = [6, 28, 496, 8128, 12, 97]\n",
    "for num in test_numbers:\n",
    "    print(f\"{num} is a perfect number: {is_perfect_number(num)}\")\n"
   ]
  },
  {
   "cell_type": "markdown",
   "id": "2cd8359a-5ad9-4c80-adfe-a926119ac257",
   "metadata": {},
   "source": [
    "# 12. Write a Python function that checks whether a passed string is a palindrome or not.\n",
    "        Note: A palindrome is a word, phrase, or sequence that reads the same backward\n",
    "        as forward, e.g., madam or nurses run."
   ]
  },
  {
   "cell_type": "code",
   "execution_count": null,
   "id": "d3628f71-5441-45e4-98dc-2ae9c5e8671e",
   "metadata": {},
   "outputs": [],
   "source": [
    "def is_palindrome(s):\n",
    "    \"\"\"\n",
    "    Check if a given string is a palindrome.\n",
    "    \n",
    "    A palindrome is a word, phrase, or sequence that reads the same backward as forward.\n",
    "    \n",
    "    Parameters:\n",
    "    s (str): The string to check.\n",
    "    \n",
    "    Returns:\n",
    "    bool: True if the string is a palindrome, False otherwise.\n",
    "    \"\"\"\n",
    "    # Remove non-alphanumeric characters and convert to lowercase\n",
    "    cleaned = ''.join(char.lower() for char in s if char.isalnum())\n",
    "    \n",
    "    # Check if the cleaned string is equal to its reverse\n",
    "    return cleaned == cleaned[::-1]\n",
    "\n",
    "# Test the function\n",
    "test_strings = [\"madam\", \"nurses run\", \"racecar\", \"hello\", \"A man, a plan, a canal, Panama\"]\n",
    "for string in test_strings:\n",
    "    print(f\"'{string}' is a palindrome: {is_palindrome(string)}\")\n"
   ]
  },
  {
   "cell_type": "code",
   "execution_count": null,
   "id": "635be1e2-5299-4dcb-bdda-f3b38e433b97",
   "metadata": {},
   "outputs": [],
   "source": []
  }
 ],
 "metadata": {
  "kernelspec": {
   "display_name": "Python 3 (ipykernel)",
   "language": "python",
   "name": "python3"
  },
  "language_info": {
   "codemirror_mode": {
    "name": "ipython",
    "version": 3
   },
   "file_extension": ".py",
   "mimetype": "text/x-python",
   "name": "python",
   "nbconvert_exporter": "python",
   "pygments_lexer": "ipython3",
   "version": "3.12.7"
  }
 },
 "nbformat": 4,
 "nbformat_minor": 5
}
