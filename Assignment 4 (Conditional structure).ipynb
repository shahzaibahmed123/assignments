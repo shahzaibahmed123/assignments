{
 "cells": [
  {
   "cell_type": "markdown",
   "id": "c7f2c40a-a709-4a86-85be-ca0bd8e3db56",
   "metadata": {},
   "source": [
    "### 1.  Write a program that prompts the user to input a number and display if the number is even or odd."
   ]
  },
  {
   "cell_type": "code",
   "execution_count": 57,
   "id": "96b2cac7-a0c3-4c22-b70c-547954427fec",
   "metadata": {},
   "outputs": [
    {
     "name": "stdin",
     "output_type": "stream",
     "text": [
      "enter any number 4\n"
     ]
    },
    {
     "name": "stdout",
     "output_type": "stream",
     "text": [
      "4 is even.\n"
     ]
    }
   ],
   "source": [
    "num = int(input(\"enter any number\"))\n",
    "if num % 2 == 0:\n",
    "    print(f\"{num} is even.\")\n",
    "else:\n",
    "    print(f\"{num} is odd.\")"
   ]
  },
  {
   "cell_type": "markdown",
   "id": "23bbf075-4382-41c9-81b5-20257c2e03cb",
   "metadata": {},
   "source": [
    "### 2. Write a Python program that takes an age as input and determines whether a person is eligible to vote. If the age is 18 or above, print \"You are eligible to vote.\" Otherwise, print \"You are not eligible to vote yet.\"."
   ]
  },
  {
   "cell_type": "code",
   "execution_count": 20,
   "id": "c0ee3b46-c483-412f-a77a-c70f2a7883d3",
   "metadata": {},
   "outputs": [
    {
     "name": "stdin",
     "output_type": "stream",
     "text": [
      "Enter your age 18\n"
     ]
    },
    {
     "name": "stdout",
     "output_type": "stream",
     "text": [
      "You are eligible for vote.\n"
     ]
    }
   ],
   "source": [
    "age = int(input(\"Enter your age\"))\n",
    "if age>= 18:\n",
    "    print(\"You are eligible for vote.\")\n",
    "else:\n",
    "    print(\"You are not eligible for vote.\")"
   ]
  },
  {
   "cell_type": "markdown",
   "id": "da7f075d-4c6b-4ca1-9285-4b3ead61af94",
   "metadata": {},
   "source": [
    "## 3. Write a program that prompts the user to input two integers and outputs the largest."
   ]
  },
  {
   "cell_type": "code",
   "execution_count": 59,
   "id": "b32ec983-27a4-4de5-8c58-80ea31b4e323",
   "metadata": {},
   "outputs": [
    {
     "name": "stdin",
     "output_type": "stream",
     "text": [
      "Enter any number 16\n",
      "Enter any number 14\n"
     ]
    },
    {
     "name": "stdout",
     "output_type": "stream",
     "text": [
      "largest number is 16\n"
     ]
    }
   ],
   "source": [
    "num1=int(input(\"Enter any number\"))\n",
    "num2=int(input(\"Enter any number\"))\n",
    "if num1>num2:\n",
    "    print (f\"largest number is {num1}\")\n",
    "elif num1<num2:\n",
    "    print(f\"Largest number is {num2}\")\n",
    "else:\n",
    "    print(\"Both are equal\")"
   ]
  },
  {
   "cell_type": "markdown",
   "id": "3f580541-889e-433d-bd2d-e49a760eaae3",
   "metadata": {},
   "source": [
    "## 4.    Write a program that prompts the user to enter a number and determines whether it is positive, negative, or zero. The program should print \"Positive\" if the number is greater than 0, \"Negative\" if the number is less than 0, and \"Zero\" if the number is 0."
   ]
  },
  {
   "cell_type": "code",
   "execution_count": 63,
   "id": "2e149ac2-090e-4925-a49b-67b50fc68959",
   "metadata": {},
   "outputs": [
    {
     "name": "stdin",
     "output_type": "stream",
     "text": [
      "Enter any number -4\n"
     ]
    },
    {
     "name": "stdout",
     "output_type": "stream",
     "text": [
      "-4 is negative\n"
     ]
    }
   ],
   "source": [
    "number =int(input(\"Enter any number\"))\n",
    "if number>0:\n",
    "    print (f\"{number} is positive\")\n",
    "elif number<0:\n",
    "    print(f\"{number} is negative\")\n",
    "else:\n",
    "    print (f\"{number} is zero\")\n",
    "    "
   ]
  },
  {
   "cell_type": "markdown",
   "id": "20cc66a8-334e-45e7-a034-ea40a737edca",
   "metadata": {},
   "source": [
    "## 5.\n",
    "Write a program that prompts the user to enter their age and prints the\n",
    "\n",
    "corresponding age group. The program should use the following age groups:\n",
    "\n",
    "0-12: Child\n",
    "\n",
    "13-19: Teenager\n",
    "\n",
    "20-59: Adult\n",
    "\n",
    "60 and above: Senior Citizen"
   ]
  },
  {
   "cell_type": "code",
   "execution_count": 65,
   "id": "b10e973f-a1a3-44bc-ac1c-a3109fbc7e7f",
   "metadata": {},
   "outputs": [
    {
     "name": "stdin",
     "output_type": "stream",
     "text": [
      "Enter your age 40\n"
     ]
    },
    {
     "name": "stdout",
     "output_type": "stream",
     "text": [
      "age group = Adult \n"
     ]
    }
   ],
   "source": [
    "age=int(input(\"Enter your age\"))\n",
    "if age >=0 and age<=12:\n",
    "    print(\"age group = Child\")\n",
    "elif age>=13 and age<=19:\n",
    "    print (\"age group = Teenager\")\n",
    "elif age>=20 and age<=59:\n",
    "    print (\"age group = Adult \")\n",
    "else:\n",
    "    print(\"age group = Senior Citizen\")"
   ]
  },
  {
   "cell_type": "markdown",
   "id": "4517f3e3-e56f-48c7-a4d3-3988099049a3",
   "metadata": {},
   "source": [
    "## 6.\n",
    "Write a program that prompts the user to input a number from 1 to 7. The program\n",
    "should display the corresponding day for the given number. For example, if the user\n",
    "types 1, the output should be Sunday. If the user types 7, the output should be\n",
    "Saturday. If the number is not between 1 to 7 user should get error message as shown\n",
    "in sample output."
   ]
  },
  {
   "cell_type": "code",
   "execution_count": 82,
   "id": "7c046827-19b7-440f-94e7-277f12fb8052",
   "metadata": {},
   "outputs": [
    {
     "name": "stdin",
     "output_type": "stream",
     "text": [
      "Enter any Number : 7\n"
     ]
    },
    {
     "name": "stdout",
     "output_type": "stream",
     "text": [
      "Saturday\n"
     ]
    }
   ],
   "source": [
    "num=int(input(\"Enter any Number :\"))\n",
    "if num==1:\n",
    "    print(\"sunday\")\n",
    "elif num==2:\n",
    "    print(\"Monday\")\n",
    "elif num==3:\n",
    "    print(\"Tuesday\")\n",
    "elif num==4:\n",
    "    print(\"Wednesday\")\n",
    "elif num==5:\n",
    "    print(\"Thursday\")\n",
    "elif num==6:\n",
    "    print(\"Friday\")\n",
    "elif num==7:\n",
    "    print(\"Saturday\")    \n",
    "else:\n",
    "    print (\"Error : enter number b/w 1-7\")"
   ]
  },
  {
   "cell_type": "markdown",
   "id": "cbcd0e93-bc0c-4cc4-b029-7bae3e48213a",
   "metadata": {},
   "source": [
    "## 7.\n",
    "Write a program that prompts the user to enter their weight (in kilograms) and height\n",
    "\n",
    "(in meters). The program should calculate the Body Mass Index (BMI) using the formula:\n",
    "\n",
    "BMI = weight / (height * height). The program should then classify the BMI into one of\n",
    "\n",
    "the following categories:\n",
    "\n",
    "less than 18.5 - Underweight\n",
    "\n",
    "BMI between 18.5 and 24.9 - Normal weight\n",
    "\n",
    "BMI between 25 and 29.9 - Overweight\n",
    "\n",
    "BMI 30 or greater - Obesity"
   ]
  },
  {
   "cell_type": "code",
   "execution_count": 122,
   "id": "46e9bba2-da8a-412b-9913-7715f6ace894",
   "metadata": {},
   "outputs": [
    {
     "name": "stdin",
     "output_type": "stream",
     "text": [
      "Enter your weight in kilograms:  433\n",
      "Enter your height in meters:  43343434\n"
     ]
    },
    {
     "name": "stdout",
     "output_type": "stream",
     "text": [
      "Your BMI is: 0.00\n",
      "You are classified as: Underweight\n"
     ]
    }
   ],
   "source": [
    "# Taking inputs from the user\n",
    "weight = float(input(\"Enter your weight in kilograms: \"))\n",
    "height = float(input(\"Enter your height in meters: \"))\n",
    "\n",
    "# Calculating BMI\n",
    "bmi = weight / (height ** 2)\n",
    "\n",
    "# Classifying BMI\n",
    "if bmi < 18.5:\n",
    "    category = \"Underweight\"\n",
    "elif 18.5 <= bmi <= 24.9:\n",
    "    category = \"Normal weight\"\n",
    "elif 25 <= bmi <= 29.9:\n",
    "    category = \"Overweight\"\n",
    "else:\n",
    "    category = \"Obesity\"\n",
    "\n",
    "# Displaying the result\n",
    "print(f\"Your BMI is: {bmi:.2f}\")\n",
    "print(f\"You are classified as: {category}\")\n"
   ]
  },
  {
   "cell_type": "markdown",
   "id": "15542f35-3fde-4881-b067-ae605573ada4",
   "metadata": {},
   "source": [
    "## 8.\n",
    "The marks obtained by a student in 3 different subjects are input by the user. Your\n",
    "program should calculate the average of subjects and display the grade. The student\n",
    "gets a grade as per the following rules:\n",
    "Average Grade\n",
    "90-100 A\n",
    "80-89 B\n",
    "70-79 C\n",
    "\n",
    "60-69 D\n",
    "0-59 F"
   ]
  },
  {
   "cell_type": "code",
   "execution_count": 128,
   "id": "7d0af70b-30fd-4ab9-9920-a76d13dd2cbf",
   "metadata": {},
   "outputs": [
    {
     "name": "stdin",
     "output_type": "stream",
     "text": [
      "Enter the marks for subject 1:  43\n",
      "Enter the marks for subject 2:  34\n",
      "Enter the marks for subject 3:  34\n"
     ]
    },
    {
     "name": "stdout",
     "output_type": "stream",
     "text": [
      "The average mark is: 37.00\n",
      "The grade is: F\n"
     ]
    }
   ],
   "source": [
    "#### Taking inputs from the user\n",
    "subject1 = float(input(\"Enter the marks for subject 1: \"))\n",
    "subject2 = float(input(\"Enter the marks for subject 2: \"))\n",
    "subject3 = float(input(\"Enter the marks for subject 3: \"))\n",
    "\n",
    "# Calculating the average of the marks\n",
    "average = (subject1 + subject2 + subject3) / 3\n",
    "\n",
    "# Determining the grade based on the average\n",
    "if 90 <= average <= 100:\n",
    "    grade = \"A\"\n",
    "elif 80 <= average < 90:\n",
    "    grade = \"B\"\n",
    "elif 70 <= average < 80:\n",
    "    grade = \"C\"\n",
    "elif 60 <= average < 70:\n",
    "    grade = \"D\"\n",
    "else:\n",
    "    grade = \"F\"\n",
    "\n",
    "# Displaying the result\n",
    "print(f\"The average mark is: {average:.2f}\")\n",
    "print(f\"The grade is: {grade}\")\n"
   ]
  },
  {
   "cell_type": "markdown",
   "id": "c8d8a699-f79f-41fa-90e9-2918e5b1e7e4",
   "metadata": {},
   "source": [
    "## 9. The roots of the quadratic equation ax2\n",
    "\n",
    "+ bx + c = 0, a ≠ 0 are given by the following\n",
    "\n",
    "formula:\n",
    "\n",
    "In this formula, the term b2\n",
    "\n",
    "- 4ac is called the discriminant. If b2\n",
    "\n",
    "- 4ac = 0, then the\n",
    "\n",
    "equation has two equal roots.\n",
    "If b2\n",
    "- 4ac > 0, the equation has two real roots. If b2\n",
    "\n",
    "- 4ac < 0, the equation has two\n",
    "\n",
    "complex roots.\n",
    "Write a program that prompts the user to input the value of a (the coefficient of x2\n",
    "), b\n",
    "(the coefficient of x), and c (the constant term) and outputs the roots of the quadratic\n",
    "equation."
   ]
  },
  {
   "cell_type": "code",
   "execution_count": 135,
   "id": "94ba36ff-0938-4d90-81c4-e7e752f00b24",
   "metadata": {},
   "outputs": [
    {
     "name": "stdin",
     "output_type": "stream",
     "text": [
      "Enter the coefficient a:  232\n",
      "Enter the coefficient b:  233\n",
      "Enter the constant term c:  2323\n"
     ]
    },
    {
     "name": "stdout",
     "output_type": "stream",
     "text": [
      "The roots are complex: -0.5021551724137931 + 3.1242232982456346i and -0.5021551724137931 - 3.1242232982456346i\n"
     ]
    }
   ],
   "source": [
    "import math\n",
    "\n",
    "# Taking inputs from the user\n",
    "a = float(input(\"Enter the coefficient a: \"))\n",
    "b = float(input(\"Enter the coefficient b: \"))\n",
    "c = float(input(\"Enter the constant term c: \"))\n",
    "\n",
    "# Calculating the discriminant\n",
    "discriminant = b**2 - 4*a*c\n",
    "\n",
    "# Checking the nature of the roots\n",
    "if discriminant > 0:\n",
    "    # Two real and distinct roots\n",
    "    root1 = (-b + math.sqrt(discriminant)) / (2*a)\n",
    "    root2 = (-b - math.sqrt(discriminant)) / (2*a)\n",
    "    print(f\"The roots are real and distinct: {root1} and {root2}\")\n",
    "elif discriminant == 0:\n",
    "    # One real root (repeated)\n",
    "    root = -b / (2*a)\n",
    "    print(f\"The root is real and repeated: {root}\")\n",
    "else:\n",
    "    # Complex roots\n",
    "    real_part = -b / (2*a)\n",
    "    imaginary_part = math.sqrt(-discriminant) / (2*a)\n",
    "    print(f\"The roots are complex: {real_part} + {imaginary_part}i and {real_part} - {imaginary_part}i\")\n"
   ]
  },
  {
   "cell_type": "markdown",
   "id": "73292ae3-0515-4557-94e9-da48f0421e9d",
   "metadata": {},
   "source": [
    "## 10. Write a program that prompts the user to enter three numbers and sorts them in\n",
    "ascending order. The program should print the sorted numbers."
   ]
  },
  {
   "cell_type": "code",
   "execution_count": 138,
   "id": "986d38a3-f1df-430a-ba4c-707d8d4b6d6f",
   "metadata": {},
   "outputs": [
    {
     "name": "stdin",
     "output_type": "stream",
     "text": [
      "Enter the first number:  43\n",
      "Enter the second number:  43\n",
      "Enter the third number:  34\n"
     ]
    },
    {
     "name": "stdout",
     "output_type": "stream",
     "text": [
      "The numbers in ascending order are: [34.0, 43.0, 43.0]\n"
     ]
    }
   ],
   "source": [
    "# Taking inputs from the user\n",
    "num1 = float(input(\"Enter the first number: \"))\n",
    "num2 = float(input(\"Enter the second number: \"))\n",
    "num3 = float(input(\"Enter the third number: \"))\n",
    "\n",
    "# Creating a list of the numbers\n",
    "numbers = [num1, num2, num3]\n",
    "\n",
    "# Sorting the list in ascending order\n",
    "numbers.sort()\n",
    "\n",
    "# Printing the sorted numbers\n",
    "print(\"The numbers in ascending order are:\", numbers)\n"
   ]
  },
  {
   "cell_type": "markdown",
   "id": "d36b3cdb-ade1-46d8-97a7-2c319134c4c8",
   "metadata": {},
   "source": [
    "## 11. Write a program that prompts the user to input three integers and outputs the\n",
    "largest."
   ]
  },
  {
   "cell_type": "code",
   "execution_count": 141,
   "id": "affd01d3-446c-4a2d-878e-0d59b4fe308b",
   "metadata": {},
   "outputs": [
    {
     "name": "stdin",
     "output_type": "stream",
     "text": [
      "Enter the first integer:  54\n",
      "Enter the second integer:  54\n",
      "Enter the third integer:  34\n"
     ]
    },
    {
     "name": "stdout",
     "output_type": "stream",
     "text": [
      "The largest number is: 54\n"
     ]
    }
   ],
   "source": [
    "# Taking inputs from the user\n",
    "num1 = int(input(\"Enter the first integer: \"))\n",
    "num2 = int(input(\"Enter the second integer: \"))\n",
    "num3 = int(input(\"Enter the third integer: \"))\n",
    "\n",
    "# Determining the largest number\n",
    "if num1 >= num2 and num1 >= num3:\n",
    "    largest = num1\n",
    "elif num2 >= num1 and num2 >= num3:\n",
    "    largest = num2\n",
    "else:\n",
    "    largest = num3\n",
    "\n",
    "# Displaying the result\n",
    "print(f\"The largest number is: {largest}\")\n"
   ]
  },
  {
   "cell_type": "markdown",
   "id": "31eabebc-a622-4ef8-8289-282ed013504a",
   "metadata": {},
   "source": [
    "## 12. Write a program that prompts the user to input a character and determine the\n",
    "character is vowel or consonant."
   ]
  },
  {
   "cell_type": "code",
   "execution_count": 150,
   "id": "7a3d8262-ec99-4ea6-a69c-7cac700e3c9e",
   "metadata": {},
   "outputs": [
    {
     "name": "stdin",
     "output_type": "stream",
     "text": [
      "Enter a character:  3\n"
     ]
    },
    {
     "name": "stdout",
     "output_type": "stream",
     "text": [
      "Please enter a single alphabet character.\n"
     ]
    }
   ],
   "source": [
    "# Taking input from the user\n",
    "char = input(\"Enter a character: \")\n",
    "\n",
    "# Checking if the input is a single alphabet character\n",
    "if len(char) == 1 and char.isalpha():\n",
    "    # Determining if the character is a vowel or consonant\n",
    "    if char.lower() in 'aeiou':\n",
    "        print(f\"The character '{char}' is a vowel.\")\n",
    "    else:\n",
    "        print(f\"The character '{char}' is a consonant.\")\n",
    "else:\n",
    "    print(\"Please enter a single alphabet character.\")\n"
   ]
  },
  {
   "cell_type": "markdown",
   "id": "04c4f19a-2ac5-447e-8491-8f0fb24126b2",
   "metadata": {},
   "source": [
    "## 13. Write a program that prompts the user to input a year and determine whether the\n",
    "year is a leap year or not.\n",
    "Leap Years are any year that can be evenly divided by 4. A year that is evenly divisible by\n",
    "100 is a leap year only if it is also evenly divisible by 400. Example:\n",
    "1992 Leap Year\n",
    "2000 Leap Year\n",
    "1900 NOT a Leap Year\n",
    "1995 NOT a Leap Year"
   ]
  },
  {
   "cell_type": "code",
   "execution_count": 159,
   "id": "64c55843-a816-45c0-8c79-7c3e8fb224c8",
   "metadata": {},
   "outputs": [
    {
     "name": "stdin",
     "output_type": "stream",
     "text": [
      "Enter a year:  2025\n"
     ]
    },
    {
     "name": "stdout",
     "output_type": "stream",
     "text": [
      "2025 is NOT a Leap Year\n"
     ]
    }
   ],
   "source": [
    "## Taking input from the user\n",
    "year = int(input(\"Enter a year: \"))\n",
    "\n",
    "# Determining if the year is a leap year\n",
    "if (year % 4 == 0):\n",
    "    if (year % 100 == 0):\n",
    "        if (year % 400 == 0):\n",
    "            print(f\"{year} is a Leap Year\")\n",
    "        else:\n",
    "            print(f\"{year} is NOT a Leap Year\")\n",
    "    else:\n",
    "        print(f\"{year} is a Leap Year\")\n",
    "else:\n",
    "    print(f\"{year} is NOT a Leap Year\")\n"
   ]
  },
  {
   "cell_type": "markdown",
   "id": "b7043af8-ae6b-482b-a999-90c688dfc26d",
   "metadata": {},
   "source": [
    "## 14. Write a program that prompts the user to input number of calls and calculate the\n",
    "monthly telephone bills as per the following rule:\n",
    "Minimum Rs. 200 for up to 100 calls.\n",
    "Plus Rs. 0.60 per call for next 50 calls.\n",
    "Plus Rs. 0.50 per call for next 50 calls.\n",
    "Plus Rs. 0.40 per call for any call beyond 200 calls."
   ]
  },
  {
   "cell_type": "code",
   "execution_count": 162,
   "id": "5621b927-bd02-437e-978e-d60d319c5c90",
   "metadata": {},
   "outputs": [
    {
     "name": "stdin",
     "output_type": "stream",
     "text": [
      "Enter the number of calls:  2\n"
     ]
    },
    {
     "name": "stdout",
     "output_type": "stream",
     "text": [
      "The monthly telephone bill is: Rs. 200.00\n"
     ]
    }
   ],
   "source": [
    "# Taking input from the user\n",
    "number_of_calls = int(input(\"Enter the number of calls: \"))\n",
    "\n",
    "# Initializing the bill amount\n",
    "bill = 200\n",
    "\n",
    "# Calculating the bill based on the number of calls\n",
    "if number_of_calls <= 100:\n",
    "    bill = 200\n",
    "elif number_of_calls <= 150:\n",
    "    bill = 200 + (number_of_calls - 100) * 0.60\n",
    "elif number_of_calls <= 200:\n",
    "    bill = 200 + 50 * 0.60 + (number_of_calls - 150) * 0.50\n",
    "else:\n",
    "    bill = 200 + 50 * 0.60 + 50 * 0.50 + (number_of_calls - 200) * 0.40\n",
    "\n",
    "# Displaying the result\n",
    "print(f\"The monthly telephone bill is: Rs. {bill:.2f}\")\n"
   ]
  },
  {
   "cell_type": "code",
   "execution_count": null,
   "id": "d986376a-6b8f-474f-970d-074c5f24ef7c",
   "metadata": {},
   "outputs": [],
   "source": []
  }
 ],
 "metadata": {
  "kernelspec": {
   "display_name": "Python 3 (ipykernel)",
   "language": "python",
   "name": "python3"
  },
  "language_info": {
   "codemirror_mode": {
    "name": "ipython",
    "version": 3
   },
   "file_extension": ".py",
   "mimetype": "text/x-python",
   "name": "python",
   "nbconvert_exporter": "python",
   "pygments_lexer": "ipython3",
   "version": "3.12.7"
  }
 },
 "nbformat": 4,
 "nbformat_minor": 5
}
