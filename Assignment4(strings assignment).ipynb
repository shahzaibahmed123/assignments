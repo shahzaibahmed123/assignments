{
 "cells": [
  {
   "cell_type": "markdown",
   "id": "f8e90b8a-1f8e-458c-b07b-a61ca79c8695",
   "metadata": {},
   "source": [
    "# 1.Write a program that accepts a string from user. Your program should count and display number of vowels in that string. "
   ]
  },
  {
   "cell_type": "code",
   "execution_count": 2,
   "id": "fead9440-9603-42bf-b66d-2941286c2932",
   "metadata": {},
   "outputs": [
    {
     "name": "stdin",
     "output_type": "stream",
     "text": [
      "Enter a string:  a\n"
     ]
    },
    {
     "name": "stdout",
     "output_type": "stream",
     "text": [
      "The number of vowels in the string is: 1\n"
     ]
    }
   ],
   "source": [
    "def count_vowels(string):\n",
    "    vowels = \"aeiouAEIOU\"\n",
    "    count = 0\n",
    "    for char in string:\n",
    "        if char in vowels:\n",
    "            count += 1\n",
    "    return count\n",
    "\n",
    "user_input = input(\"Enter a string: \")\n",
    "\n",
    "vowel_count = count_vowels(user_input)\n",
    "print(f\"The number of vowels in the string is: {vowel_count}\")"
   ]
  },
  {
   "cell_type": "markdown",
   "id": "9b2d7350-ecb3-488a-b203-2918a5ca54e8",
   "metadata": {},
   "source": [
    "# 2. Write a program that reads a string from keyboard and display:\n",
    "* The number of uppercase letters in the string\n",
    "* The number of lowercase letters in the string\n",
    "* The number of digits in the string\n",
    "* The number of whitespace characters in the string \n"
   ]
  },
  {
   "cell_type": "code",
   "execution_count": 9,
   "id": "94442f2c-815d-433d-ac75-5e1da98b6d65",
   "metadata": {},
   "outputs": [
    {
     "name": "stdin",
     "output_type": "stream",
     "text": [
      "Enter a string:  Hello world1234\n"
     ]
    },
    {
     "name": "stdout",
     "output_type": "stream",
     "text": [
      "Number of uppercase letters: 1\n",
      "Number of lowercase letters: 9\n",
      "Number of digits: 4\n",
      "Number of whitespace characters: 1\n"
     ]
    }
   ],
   "source": [
    "def count_character_types(string):\n",
    "    uppercase_count = 0\n",
    "    lowercase_count = 0\n",
    "    digit_count = 0\n",
    "    whitespace_count = 0\n",
    "\n",
    "    for char in string:\n",
    "        if char.isupper():\n",
    "            uppercase_count += 1\n",
    "        elif char.islower():\n",
    "            lowercase_count += 1\n",
    "        elif char.isdigit():\n",
    "            digit_count += 1\n",
    "        elif char.isspace():\n",
    "            whitespace_count += 1\n",
    "\n",
    "    return uppercase_count, lowercase_count, digit_count, whitespace_count\n",
    "user_input = input(\"Enter a string: \")\n",
    "uppercase, lowercase, digits, whitespace = count_character_types(user_input)\n",
    "\n",
    "print(f\"Number of uppercase letters: {uppercase}\")\n",
    "print(f\"Number of lowercase letters: {lowercase}\")\n",
    "print(f\"Number of digits: {digits}\")\n",
    "print(f\"Number of whitespace characters: {whitespace}\")"
   ]
  },
  {
   "cell_type": "markdown",
   "id": "ad1452ec-2679-469c-8b41-3f9258b3acfa",
   "metadata": {},
   "source": [
    "# 3. Write a Python program that accepts a string from user. Your program should create and display a new string where the first and last characters have been exchanged. "
   ]
  },
  {
   "cell_type": "code",
   "execution_count": 12,
   "id": "c05f117b-ef5a-4570-8e32-74feb4486e01",
   "metadata": {},
   "outputs": [
    {
     "name": "stdin",
     "output_type": "stream",
     "text": [
      "Enter a string:  Hello\n"
     ]
    },
    {
     "name": "stdout",
     "output_type": "stream",
     "text": [
      "The new string with first and last characters exchanged is: oellH\n"
     ]
    }
   ],
   "source": [
    "def exchange_first_last(string):\n",
    "    if len(string) < 2:\n",
    "        return string\n",
    "    new_string = string[-1] + string[1:-1] + string[0]\n",
    "    return new_string\n",
    "\n",
    "user_input = input(\"Enter a string: \")\n",
    "new_string = exchange_first_last(user_input)\n",
    "print(f\"The new string with first and last characters exchanged is: {new_string}\")"
   ]
  },
  {
   "cell_type": "markdown",
   "id": "876f53e9-375d-4476-98f0-20a649b7355d",
   "metadata": {},
   "source": [
    "# 4.. Write a Python program that accepts a string from user. Your program should create a new string in reverse of first string and display it. "
   ]
  },
  {
   "cell_type": "code",
   "execution_count": 15,
   "id": "7d88aeb5-2e03-4fcb-8103-eea86dc6c454",
   "metadata": {},
   "outputs": [
    {
     "name": "stdin",
     "output_type": "stream",
     "text": [
      "Enter a string:  Rehan\n"
     ]
    },
    {
     "name": "stdout",
     "output_type": "stream",
     "text": [
      "The reversed string is: naheR\n"
     ]
    }
   ],
   "source": [
    "def reverse_string(string):\n",
    "    return string[::-1]\n",
    "user_input = input(\"Enter a string: \")\n",
    "reversed_string = reverse_string(user_input)\n",
    "print(f\"The reversed string is: {reversed_string}\")"
   ]
  },
  {
   "cell_type": "markdown",
   "id": "3e0d0c27-86f1-42f2-81bb-94aac4ef162f",
   "metadata": {},
   "source": [
    "# 5. Write a Python program that accepts a string from user. Your program should create a new string by shifting one position to left. "
   ]
  },
  {
   "cell_type": "code",
   "execution_count": 18,
   "id": "a623ed33-99ba-436e-ad29-6861e6f4e32a",
   "metadata": {},
   "outputs": [
    {
     "name": "stdin",
     "output_type": "stream",
     "text": [
      "Enter a string:  Hello\n"
     ]
    },
    {
     "name": "stdout",
     "output_type": "stream",
     "text": [
      "The new string after shifting left by one position is: elloH\n"
     ]
    }
   ],
   "source": [
    "def shift_left(string):\n",
    "    if len(string) <= 1:\n",
    "        return string\n",
    "    new_string = string[1:] + string[0]\n",
    "    return new_string\n",
    "user_input = input(\"Enter a string: \")\n",
    "shifted_string = shift_left(user_input)\n",
    "print(f\"The new string after shifting left by one position is: {shifted_string}\")"
   ]
  },
  {
   "cell_type": "markdown",
   "id": "16962fd0-a104-4303-b269-c714b2a49799",
   "metadata": {},
   "source": [
    "# 6. Write a program that asks the user to input his name and print its initials. Assuming that the user always types first name, middle name and last name and does not include any unnecessary spaces. "
   ]
  },
  {
   "cell_type": "code",
   "execution_count": 24,
   "id": "7d5cf255-dc3d-476f-8770-120ebd2719ba",
   "metadata": {},
   "outputs": [
    {
     "name": "stdin",
     "output_type": "stream",
     "text": [
      "Enter your full name (first, middle, last):  Ajay kumar garg\n"
     ]
    },
    {
     "name": "stdout",
     "output_type": "stream",
     "text": [
      "The initials are: A. K. G.\n"
     ]
    }
   ],
   "source": [
    "def get_initials(full_name):\n",
    "    initials = \"\"\n",
    "    i = 0\n",
    "    while i < len(full_name):\n",
    "        while i < len(full_name) and full_name[i] == ' ':\n",
    "            i += 1\n",
    "        if i < len(full_name):\n",
    "            initials += full_name[i].upper() + \". \"\n",
    "        while i < len(full_name) and full_name[i] != ' ':\n",
    "            i += 1\n",
    "            \n",
    "    return initials.strip()\n",
    "user_name = input(\"Enter your full name (first, middle, last): \")\n",
    "initials = get_initials(user_name)\n",
    "\n",
    "print(f\"The initials are: {initials}\")"
   ]
  },
  {
   "cell_type": "markdown",
   "id": "baed5081-9519-4217-ac3f-532c70b63745",
   "metadata": {},
   "source": [
    "# 7. A palindrome is a string that reads the same backward as forward. For example, the words dad,madam and radar are all palindromes. Write a programs that determines whether the string is a palindrome."
   ]
  },
  {
   "cell_type": "code",
   "execution_count": 28,
   "id": "fbcf4198-cfb2-4556-b671-dcf231af4192",
   "metadata": {},
   "outputs": [
    {
     "name": "stdin",
     "output_type": "stream",
     "text": [
      "Enter a string:  madam\n"
     ]
    },
    {
     "name": "stdout",
     "output_type": "stream",
     "text": [
      "madam is a palindrome.\n"
     ]
    }
   ],
   "source": [
    "def is_palindrome(string):\n",
    "    start = 0\n",
    "    end = len(string) - 1\n",
    "    while start < end:\n",
    "        if string[start] != string[end]:\n",
    "            return False\n",
    "        start += 1\n",
    "        end -= 1\n",
    "    return True\n",
    "user_input = input(\"Enter a string: \")\n",
    "if is_palindrome(user_input):\n",
    "    print(f\"{user_input} is a palindrome.\")\n",
    "else:\n",
    "    print(f\"{user_input} is not a palindrome.\")"
   ]
  },
  {
   "cell_type": "markdown",
   "id": "fc6f71a8-0aab-4783-8079-a4bc2bd63c1e",
   "metadata": {},
   "source": [
    "# 8. Write a program that display following output:\n",
    "SHIFT\n",
    "HIFTS\n",
    "IFTSH\n",
    "FTSHI\n",
    "TSHIF\n",
    "SHIFT \n"
   ]
  },
  {
   "cell_type": "code",
   "execution_count": 31,
   "id": "21885ac0-f04a-49f0-b59a-ce680ce5475b",
   "metadata": {},
   "outputs": [
    {
     "name": "stdout",
     "output_type": "stream",
     "text": [
      "SHIFT\n",
      "HIFTS\n",
      "IFTSH\n",
      "FTSHI\n",
      "TSHIF\n"
     ]
    }
   ],
   "source": [
    "def print_pattern():\n",
    "    word = \"SHIFT\"\n",
    "    for i in range(len(word)):\n",
    "        print(word[i:] + word[:i])\n",
    "print_pattern()"
   ]
  },
  {
   "cell_type": "markdown",
   "id": "7da9bb84-3ea1-4a2e-b7da-40123427e3bb",
   "metadata": {},
   "source": [
    "#  9. Write a program in python that accepts a string to setup a passwords. Your entered password must\n",
    "meet the following requirements:\n",
    " - The password must be at least eight characters long.\n",
    " - It must contain at least one uppercase letter.\n",
    " - It must contain at least one lowercase letter.\n",
    " - It must contain at least one numeric digit.\n",
    " - Your program should should perform this validation. "
   ]
  },
  {
   "cell_type": "code",
   "execution_count": 37,
   "id": "b17cac83-a6fe-460a-b2b7-29b5e826e6d1",
   "metadata": {},
   "outputs": [
    {
     "name": "stdin",
     "output_type": "stream",
     "text": [
      "Enter your password:  Rehan1234\n"
     ]
    },
    {
     "name": "stdout",
     "output_type": "stream",
     "text": [
      "Password is valid.\n"
     ]
    }
   ],
   "source": [
    "import re\n",
    "def validate_password(password):\n",
    "    if len(password) < 8:\n",
    "        return \"Password must be at least 8 characters long.\"\n",
    "    if not re.search(r'[A-Z]', password):\n",
    "        return \"Password must contain at least one uppercase letter.\"\n",
    "    \n",
    "    if not re.search(r'[a-z]', password):\n",
    "        return \"Password must contain at least one lowercase letter.\"\n",
    "    \n",
    "    if not re.search(r'[0-9]', password):\n",
    "        return \"Password must contain at least one numeric digit.\"\n",
    "    \n",
    "    return \"Password is valid.\"\n",
    "\n",
    "password = input(\"Enter your password: \")\n",
    "result = validate_password(password)\n",
    "print(result)"
   ]
  },
  {
   "cell_type": "code",
   "execution_count": null,
   "id": "6260cb5b-45c8-489e-a859-0c7f7c86dad5",
   "metadata": {},
   "outputs": [],
   "source": []
  }
 ],
 "metadata": {
  "kernelspec": {
   "display_name": "Python 3 (ipykernel)",
   "language": "python",
   "name": "python3"
  },
  "language_info": {
   "codemirror_mode": {
    "name": "ipython",
    "version": 3
   },
   "file_extension": ".py",
   "mimetype": "text/x-python",
   "name": "python",
   "nbconvert_exporter": "python",
   "pygments_lexer": "ipython3",
   "version": "3.12.7"
  }
 },
 "nbformat": 4,
 "nbformat_minor": 5
}
